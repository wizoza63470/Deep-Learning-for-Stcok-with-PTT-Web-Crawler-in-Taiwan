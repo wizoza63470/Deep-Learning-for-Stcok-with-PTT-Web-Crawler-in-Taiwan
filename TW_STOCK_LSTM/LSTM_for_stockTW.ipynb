{
 "cells": [
  {
   "cell_type": "code",
   "execution_count": 93,
   "metadata": {},
   "outputs": [],
   "source": [
    "%matplotlib inline\n",
    "import numpy as np\n",
    "import pandas as pd\n",
    "import matplotlib.pyplot as plt"
   ]
  },
  {
   "cell_type": "code",
   "execution_count": 94,
   "metadata": {
    "scrolled": true
   },
   "outputs": [
    {
     "name": "stderr",
     "output_type": "stream",
     "text": [
      "D:\\Anaconda3\\lib\\site-packages\\IPython\\core\\interactiveshell.py:3020: DtypeWarning: Columns (1,2,5,10,12,13,16,17,19,22,23,25,27,30,32,33,40,41,50,51,55,56,66,67,71,72,74,76,77,80,82,84,86,87,89,90,91,92,93,94,96,97,100,101,102,103,104,110,118,124,128,132,133,136,137,141,142,145,146,148,153,157,160,163,164,171,172,174,176,182,183,187,189,190,191,192,193,198,201,203,204,208,211,217,222,224,225,227,230,233,237,239,240,243,247,249,252,253,254,259,264,267,276,279,280,283,285,288,290,291,293,295,301,302,304,306,307,308,309,311,314,315,316,317,318,319,320,323,325,326,327,329,331,334,338,339,340,341,343,347,348,350,353,354,360,363,366,369,375,382,384,386,389,393,395,401,406,407,408,409,410,411,412,418,419,423,424,427,429,431,432,434,437,438,440,447,449,450,456,459,465,469,471,473,474,476,477,484,485,488,490,492,497,498,506,509,510,511,512,514,516,518,519,521,524,527,535,536,542,544,545,551,552,556,557,558,563,565,571,572,574,576,580,583,584,587,589,590,591,597,607,612,615,619,624,625,627,629,633,634,636,638,639,640,642,646,654,656,659,662,674,676,677,680,686,687,688,689,694,696,697,698,699,710,711,713,721,723,724,725,728,744,751,754,761,763,765,766,768,790,792,796,798,799,806,808,818,819,829,830,839,842,847,854,869,875,880,884,885,902,909,916,917,918,919,922,923,925,926,930,933,935,938,941,948,952,956,959,972,973,974,979,981,983,987,994,999,1005,1007,1019,1028,1029,1038,1040,1043,1045,1054,1059,1060,1065,1066,1069,1070,1072,1073,1076,1078,1080,1081,1082,1083,1084,1087,1088,1089,1090,1091,1092,1093,1094,1095,1096,1097,1098,1099,1100,1101,1102,1103,1104,1105,1106,1107,1109,1110,1111,1112,1113,1119,1124,1131,1136,1137,1141,1144,1151) have mixed types. Specify dtype option on import or set low_memory=False.\n",
      "  interactivity=interactivity, compiler=compiler, result=result)\n"
     ]
    }
   ],
   "source": [
    "close = pd.read_csv('close.csv')\n",
    "close = close.transpose()\n",
    "close = close.reindex(columns=close.columns[::-1])\n",
    "close = close.drop(index = 'Unnamed: 0')"
   ]
  },
  {
   "cell_type": "code",
   "execution_count": null,
   "metadata": {},
   "outputs": [],
   "source": []
  },
  {
   "cell_type": "code",
   "execution_count": null,
   "metadata": {},
   "outputs": [],
   "source": []
  },
  {
   "cell_type": "code",
   "execution_count": null,
   "metadata": {},
   "outputs": [],
   "source": []
  },
  {
   "cell_type": "code",
   "execution_count": null,
   "metadata": {},
   "outputs": [],
   "source": []
  },
  {
   "cell_type": "code",
   "execution_count": null,
   "metadata": {},
   "outputs": [],
   "source": []
  },
  {
   "cell_type": "code",
   "execution_count": 95,
   "metadata": {},
   "outputs": [],
   "source": [
    "#做x資料 大X是array\n",
    "xclose = []\n",
    "xclose_train = []\n",
    "xclose_test = []\n",
    "\n",
    "n=3649\n",
    "for times in range(3649):\n",
    "    x_min =[]\n",
    "    for i in close.loc[:,n]:\n",
    "        try:\n",
    "            data = float(i)\n",
    "        except:\n",
    "            data = float('nan')\n",
    "        x_min.append(data)\n",
    "    xclose.append(x_min)\n",
    "    n = n-1\n",
    "\n",
    "xclose_train=xclose[0:3000]\n",
    "xclose_test =xclose[3000:3600]\n",
    "\n",
    "Xclose_train = np.array(xclose_train)\n",
    "Xclose_test = np.array(xclose_test)"
   ]
  },
  {
   "cell_type": "code",
   "execution_count": 96,
   "metadata": {},
   "outputs": [],
   "source": [
    "#做y資料 大Y是array\n",
    "yclose = xclose[7:3607]\n",
    "yclose_train = yclose[0:3000]\n",
    "yclose_test = yclose[3000:3600]\n",
    "\n",
    "Yclose_train = np.array(yclose_train)\n",
    "Yclose_test = np.array(yclose_test)"
   ]
  },
  {
   "cell_type": "code",
   "execution_count": 97,
   "metadata": {},
   "outputs": [
    {
     "name": "stdout",
     "output_type": "stream",
     "text": [
      "600 600 3000 3000\n"
     ]
    }
   ],
   "source": [
    "print(len(xclose_test),len(yclose_test),len(xclose_train),len(yclose_train))"
   ]
  },
  {
   "cell_type": "code",
   "execution_count": 119,
   "metadata": {},
   "outputs": [],
   "source": [
    "Xclose_train = Xclose_train.reshape(3000,1156)\n",
    "Xclose_test = Xclose_test.reshape(600,1,1156)"
   ]
  },
  {
   "cell_type": "code",
   "execution_count": null,
   "metadata": {},
   "outputs": [],
   "source": []
  },
  {
   "cell_type": "markdown",
   "metadata": {},
   "source": [
    "##開始做model"
   ]
  },
  {
   "cell_type": "code",
   "execution_count": 120,
   "metadata": {},
   "outputs": [],
   "source": [
    "from keras.models import Sequential, Model\n",
    "from keras.layers import Dense, BatchNormalization, LSTM, TimeDistributed, Dropout, Input, Flatten"
   ]
  },
  {
   "cell_type": "code",
   "execution_count": 121,
   "metadata": {},
   "outputs": [
    {
     "name": "stdout",
     "output_type": "stream",
     "text": [
      "_________________________________________________________________\n",
      "Layer (type)                 Output Shape              Param #   \n",
      "=================================================================\n",
      "dense_10 (Dense)             (None, 3000)              3471000   \n",
      "_________________________________________________________________\n",
      "dense_11 (Dense)             (None, 1156)              3469156   \n",
      "=================================================================\n",
      "Total params: 6,940,156\n",
      "Trainable params: 6,940,156\n",
      "Non-trainable params: 0\n",
      "_________________________________________________________________\n"
     ]
    }
   ],
   "source": [
    "model = Sequential()\n",
    "model.add(Dense(3000, input_dim = (1156),activation='relu'))\n",
    "model.add(Dense(1156,activation='relu'))\n",
    "model.summary()"
   ]
  },
  {
   "cell_type": "code",
   "execution_count": null,
   "metadata": {},
   "outputs": [],
   "source": []
  },
  {
   "cell_type": "code",
   "execution_count": 122,
   "metadata": {},
   "outputs": [],
   "source": [
    "model.compile(loss='mse',optimizer = 'SGD', metrics=['acc'])"
   ]
  },
  {
   "cell_type": "code",
   "execution_count": 123,
   "metadata": {},
   "outputs": [
    {
     "name": "stdout",
     "output_type": "stream",
     "text": [
      "Epoch 1/30\n",
      "3000/3000 [==============================] - 2s 805us/step - loss: nan - acc: 0.0000e+00\n",
      "Epoch 2/30\n",
      "3000/3000 [==============================] - 2s 555us/step - loss: nan - acc: 0.0000e+00\n",
      "Epoch 3/30\n",
      "3000/3000 [==============================] - 2s 559us/step - loss: nan - acc: 0.0000e+00\n",
      "Epoch 4/30\n",
      "3000/3000 [==============================] - 2s 558us/step - loss: nan - acc: 0.0000e+00\n",
      "Epoch 5/30\n",
      "3000/3000 [==============================] - 2s 555us/step - loss: nan - acc: 0.0000e+00\n",
      "Epoch 6/30\n",
      "3000/3000 [==============================] - 2s 554us/step - loss: nan - acc: 0.0000e+00\n",
      "Epoch 7/30\n",
      "3000/3000 [==============================] - 2s 557us/step - loss: nan - acc: 0.0000e+00\n",
      "Epoch 8/30\n",
      "3000/3000 [==============================] - 2s 550us/step - loss: nan - acc: 0.0000e+00\n",
      "Epoch 9/30\n",
      "3000/3000 [==============================] - 2s 555us/step - loss: nan - acc: 0.0000e+00\n",
      "Epoch 10/30\n",
      "3000/3000 [==============================] - 2s 554us/step - loss: nan - acc: 0.0000e+00\n",
      "Epoch 11/30\n",
      "3000/3000 [==============================] - 2s 554us/step - loss: nan - acc: 0.0000e+00\n",
      "Epoch 12/30\n",
      "3000/3000 [==============================] - 2s 552us/step - loss: nan - acc: 0.0000e+00\n",
      "Epoch 13/30\n",
      "3000/3000 [==============================] - 2s 552us/step - loss: nan - acc: 0.0000e+00\n",
      "Epoch 14/30\n",
      "3000/3000 [==============================] - 2s 557us/step - loss: nan - acc: 0.0000e+00\n",
      "Epoch 15/30\n",
      "3000/3000 [==============================] - 2s 559us/step - loss: nan - acc: 0.0000e+00\n",
      "Epoch 16/30\n",
      "3000/3000 [==============================] - 2s 540us/step - loss: nan - acc: 0.0000e+00\n",
      "Epoch 17/30\n",
      "3000/3000 [==============================] - 2s 565us/step - loss: nan - acc: 0.0000e+00\n",
      "Epoch 18/30\n",
      "3000/3000 [==============================] - 2s 583us/step - loss: nan - acc: 0.0000e+00\n",
      "Epoch 19/30\n",
      "3000/3000 [==============================] - 2s 584us/step - loss: nan - acc: 0.0000e+00\n",
      "Epoch 20/30\n",
      "3000/3000 [==============================] - 2s 585us/step - loss: nan - acc: 0.0000e+00\n",
      "Epoch 21/30\n",
      "3000/3000 [==============================] - 2s 588us/step - loss: nan - acc: 0.0000e+00\n",
      "Epoch 22/30\n",
      "3000/3000 [==============================] - 2s 587us/step - loss: nan - acc: 0.0000e+00\n",
      "Epoch 23/30\n",
      "3000/3000 [==============================] - 2s 588us/step - loss: nan - acc: 0.0000e+00\n",
      "Epoch 24/30\n",
      "3000/3000 [==============================] - 2s 585us/step - loss: nan - acc: 0.0000e+00\n",
      "Epoch 25/30\n",
      "3000/3000 [==============================] - 2s 559us/step - loss: nan - acc: 0.0000e+00\n",
      "Epoch 26/30\n",
      "3000/3000 [==============================] - 2s 559us/step - loss: nan - acc: 0.0000e+00\n",
      "Epoch 27/30\n",
      "3000/3000 [==============================] - 2s 560us/step - loss: nan - acc: 0.0000e+00\n",
      "Epoch 28/30\n",
      "3000/3000 [==============================] - 2s 559us/step - loss: nan - acc: 0.0000e+00\n",
      "Epoch 29/30\n",
      "3000/3000 [==============================] - 2s 550us/step - loss: nan - acc: 0.0000e+00\n",
      "Epoch 30/30\n",
      "3000/3000 [==============================] - 2s 552us/step - loss: nan - acc: 0.0000e+00\n"
     ]
    },
    {
     "data": {
      "text/plain": [
       "<keras.callbacks.History at 0x203f54861d0>"
      ]
     },
     "execution_count": 123,
     "metadata": {},
     "output_type": "execute_result"
    }
   ],
   "source": [
    "model.fit(Xclose_train, Yclose_train, batch_size=7, epochs = 30)"
   ]
  },
  {
   "cell_type": "code",
   "execution_count": null,
   "metadata": {},
   "outputs": [],
   "source": []
  },
  {
   "cell_type": "code",
   "execution_count": null,
   "metadata": {},
   "outputs": [],
   "source": []
  },
  {
   "cell_type": "code",
   "execution_count": null,
   "metadata": {},
   "outputs": [],
   "source": []
  }
 ],
 "metadata": {
  "kernelspec": {
   "display_name": "Python 3",
   "language": "python",
   "name": "python3"
  },
  "language_info": {
   "codemirror_mode": {
    "name": "ipython",
    "version": 3
   },
   "file_extension": ".py",
   "mimetype": "text/x-python",
   "name": "python",
   "nbconvert_exporter": "python",
   "pygments_lexer": "ipython3",
   "version": "3.6.7"
  }
 },
 "nbformat": 4,
 "nbformat_minor": 2
}
