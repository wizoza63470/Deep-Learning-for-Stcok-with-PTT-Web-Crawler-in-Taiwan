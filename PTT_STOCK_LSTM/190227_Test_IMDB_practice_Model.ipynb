{
 "cells": [
  {
   "cell_type": "code",
   "execution_count": 1,
   "metadata": {},
   "outputs": [
    {
     "name": "stdout",
     "output_type": "stream",
     "text": [
      "env: KERAS_BACKEND=tensorflow\n"
     ]
    }
   ],
   "source": [
    "%env KERAS_BACKEND = tensorflow"
   ]
  },
  {
   "cell_type": "code",
   "execution_count": 2,
   "metadata": {},
   "outputs": [],
   "source": [
    "%matplotlib inline\n",
    "import numpy as np\n",
    "import matplotlib.pyplot as plt\n",
    "import pandas as pd"
   ]
  },
  {
   "cell_type": "code",
   "execution_count": 3,
   "metadata": {},
   "outputs": [
    {
     "name": "stderr",
     "output_type": "stream",
     "text": [
      "Using TensorFlow backend.\n"
     ]
    }
   ],
   "source": [
    "from keras.datasets import imdb"
   ]
  },
  {
   "cell_type": "code",
   "execution_count": 4,
   "metadata": {},
   "outputs": [],
   "source": [
    "(x_train,y_train), (x_test, y_test) = imdb.load_data(num_words=10000)"
   ]
  },
  {
   "cell_type": "code",
   "execution_count": 5,
   "metadata": {
    "scrolled": false
   },
   "outputs": [
    {
     "data": {
      "text/plain": [
       "550"
      ]
     },
     "execution_count": 5,
     "metadata": {},
     "output_type": "execute_result"
    }
   ],
   "source": [
    "len(x_train[3])"
   ]
  },
  {
   "cell_type": "code",
   "execution_count": 6,
   "metadata": {},
   "outputs": [],
   "source": [
    "#資料預處理\n",
    "from keras.preprocessing import sequence"
   ]
  },
  {
   "cell_type": "code",
   "execution_count": 7,
   "metadata": {},
   "outputs": [],
   "source": [
    "x_train = sequence.pad_sequences(x_train, maxlen=100)\n",
    "x_test = sequence.pad_sequences(x_test, maxlen=100)"
   ]
  },
  {
   "cell_type": "code",
   "execution_count": 8,
   "metadata": {},
   "outputs": [
    {
     "data": {
      "text/plain": [
       "(25000, 100)"
      ]
     },
     "execution_count": 8,
     "metadata": {},
     "output_type": "execute_result"
    }
   ],
   "source": [
    "x_train.shape"
   ]
  },
  {
   "cell_type": "code",
   "execution_count": 9,
   "metadata": {},
   "outputs": [],
   "source": [
    "from keras.models import Model, Sequential\n",
    "from keras.layers import Dense, Embedding, LSTM, Input"
   ]
  },
  {
   "cell_type": "code",
   "execution_count": 10,
   "metadata": {},
   "outputs": [],
   "source": [
    "model = Sequential()\n",
    "model.add(Embedding(10000,128))\n",
    "model.add(LSTM(150))\n",
    "model.add(Dense(1, activation= 'sigmoid'))"
   ]
  },
  {
   "cell_type": "code",
   "execution_count": 29,
   "metadata": {},
   "outputs": [],
   "source": [
    "f_1 = Embedding(10000,128)\n",
    "f_2 = LSTM(150)\n",
    "f_3 = Dense(1, activation = 'tanh')"
   ]
  },
  {
   "cell_type": "code",
   "execution_count": 30,
   "metadata": {},
   "outputs": [],
   "source": [
    "x = Input(shape=(100,))\n",
    "h_1 = f_1(x)\n",
    "h_2 = f_2(h_1)\n",
    "y = f_3(h_2)\n",
    "models = Model(x,y)"
   ]
  },
  {
   "cell_type": "code",
   "execution_count": 31,
   "metadata": {},
   "outputs": [
    {
     "name": "stdout",
     "output_type": "stream",
     "text": [
      "_________________________________________________________________\n",
      "Layer (type)                 Output Shape              Param #   \n",
      "=================================================================\n",
      "input_4 (InputLayer)         (None, 100)               0         \n",
      "_________________________________________________________________\n",
      "embedding_6 (Embedding)      (None, 100, 128)          1280000   \n",
      "_________________________________________________________________\n",
      "lstm_6 (LSTM)                (None, 150)               167400    \n",
      "_________________________________________________________________\n",
      "dense_6 (Dense)              (None, 1)                 151       \n",
      "=================================================================\n",
      "Total params: 1,447,551\n",
      "Trainable params: 1,447,551\n",
      "Non-trainable params: 0\n",
      "_________________________________________________________________\n"
     ]
    }
   ],
   "source": [
    "models.summary()"
   ]
  },
  {
   "cell_type": "code",
   "execution_count": 32,
   "metadata": {},
   "outputs": [],
   "source": [
    "models.compile(loss='binary_crossentropy', optimizer = 'Nadam', metrics=['accuracy'] )"
   ]
  },
  {
   "cell_type": "code",
   "execution_count": 33,
   "metadata": {},
   "outputs": [
    {
     "name": "stdout",
     "output_type": "stream",
     "text": [
      "Epoch 1/15\n",
      "25000/25000 [==============================] - 67s 3ms/step - loss: 1.4136 - acc: 0.6046\n",
      "Epoch 2/15\n",
      "25000/25000 [==============================] - 65s 3ms/step - loss: 1.5208 - acc: 0.7283\n",
      "Epoch 3/15\n",
      "25000/25000 [==============================] - 65s 3ms/step - loss: 2.3024 - acc: 0.6144: 2s - los - ETA: 0s - loss: 2.3035 - acc: 0.61\n",
      "Epoch 4/15\n",
      "25000/25000 [==============================] - 66s 3ms/step - loss: 0.8405 - acc: 0.8366\n",
      "Epoch 5/15\n",
      "25000/25000 [==============================] - 65s 3ms/step - loss: 0.2427 - acc: 0.9248\n",
      "Epoch 6/15\n",
      "25000/25000 [==============================] - 66s 3ms/step - loss: 0.1750 - acc: 0.9025\n",
      "Epoch 7/15\n",
      "25000/25000 [==============================] - 66s 3ms/step - loss: 0.1366 - acc: 0.8271\n",
      "Epoch 8/15\n",
      "25000/25000 [==============================] - 65s 3ms/step - loss: 0.1404 - acc: 0.7688\n",
      "Epoch 9/15\n",
      "25000/25000 [==============================] - 63s 3ms/step - loss: 0.1855 - acc: 0.7756\n",
      "Epoch 10/15\n",
      "25000/25000 [==============================] - 66s 3ms/step - loss: 0.5459 - acc: 0.7248\n",
      "Epoch 11/15\n",
      "25000/25000 [==============================] - 63s 3ms/step - loss: 0.4349 - acc: 0.7706\n",
      "Epoch 12/15\n",
      "25000/25000 [==============================] - 64s 3ms/step - loss: 0.5039 - acc: 0.6911\n",
      "Epoch 13/15\n",
      "25000/25000 [==============================] - 63s 3ms/step - loss: 0.2746 - acc: 0.7447\n",
      "Epoch 14/15\n",
      "25000/25000 [==============================] - 66s 3ms/step - loss: 0.1561 - acc: 0.6953\n",
      "Epoch 15/15\n",
      "25000/25000 [==============================] - 64s 3ms/step - loss: 0.1255 - acc: 0.6628\n"
     ]
    },
    {
     "data": {
      "text/plain": [
       "<keras.callbacks.History at 0x1acc08fba58>"
      ]
     },
     "execution_count": 33,
     "metadata": {},
     "output_type": "execute_result"
    }
   ],
   "source": [
    "models.fit(x_train, y_train, batch_size=32, epochs=15)"
   ]
  },
  {
   "cell_type": "code",
   "execution_count": 34,
   "metadata": {},
   "outputs": [
    {
     "name": "stdout",
     "output_type": "stream",
     "text": [
      "25000/25000 [==============================] - 14s 570us/step\n",
      "[1.342314946436882, 0.54368]\n"
     ]
    }
   ],
   "source": [
    "score = models.evaluate(x_test,y_test)\n",
    "print(score)"
   ]
  },
  {
   "cell_type": "code",
   "execution_count": 17,
   "metadata": {},
   "outputs": [],
   "source": [
    "model.save('190227_IMDB_practice_Model_2.h5')"
   ]
  },
  {
   "cell_type": "code",
   "execution_count": null,
   "metadata": {},
   "outputs": [],
   "source": []
  }
 ],
 "metadata": {
  "kernelspec": {
   "display_name": "Python 3",
   "language": "python",
   "name": "python3"
  },
  "language_info": {
   "codemirror_mode": {
    "name": "ipython",
    "version": 3
   },
   "file_extension": ".py",
   "mimetype": "text/x-python",
   "name": "python",
   "nbconvert_exporter": "python",
   "pygments_lexer": "ipython3",
   "version": "3.6.7"
  }
 },
 "nbformat": 4,
 "nbformat_minor": 2
}
